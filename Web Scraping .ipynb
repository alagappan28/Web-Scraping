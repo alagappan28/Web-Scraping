{
 "cells": [
  {
   "cell_type": "code",
   "execution_count": 1,
   "metadata": {},
   "outputs": [],
   "source": [
    "#Import Header Files\n",
    "from bs4 import BeautifulSoup as soup  \n",
    "from urllib.request import urlopen as uRe\n",
    "import pandas as pd"
   ]
  },
  {
   "cell_type": "code",
   "execution_count": null,
   "metadata": {},
   "outputs": [],
   "source": [
    "content=[]\n",
    "for i in range(1,6):\n",
    "    page_link='https://www.top500.org/list/2018/06/?page='+str(i)\n",
    "    uClient=uRe(page_link)\n",
    "    page_soup = soup(uClient.read(), \"html.parser\")\n",
    "    table_content=page_soup.find_all(\"tr\")\n",
    "    content=content+table_content[1:]"
   ]
  },
  {
   "cell_type": "code",
   "execution_count": null,
   "metadata": {},
   "outputs": [],
   "source": [
    "#Find table Headers and load it to dataframe \n",
    "table_header=page_soup.find_all(\"th\")\n",
    "\n",
    "col=[]\n",
    "for t in table_header:\n",
    "    col.append(t.text)\n",
    "    \n",
    "df1= pd.DataFrame(columns=col)"
   ]
  },
  {
   "cell_type": "code",
   "execution_count": null,
   "metadata": {},
   "outputs": [],
   "source": [
    "#Find <td> from table_content, from table find <br> to extract country \n",
    "country=[]\n",
    "site=[] \n",
    "for i in range(0,len(content)):\n",
    "    table=content[i].find_all(\"td\")\n",
    "    country.append(table[1].find(\"br\").next_sibling)\n",
    "    site.append (table[1].find(\"a\").text)\n",
    "    \n",
    "    j=0\n",
    "    for j in range(0,7):\n",
    "        \n",
    "        df1.loc[i,col[j]]=table[j].text\n",
    "        \n",
    "       \n",
    "df1['Country'] = country        \n",
    "df1['Site'] = site "
   ]
  },
  {
   "cell_type": "code",
   "execution_count": null,
   "metadata": {},
   "outputs": [],
   "source": [
    "#Convert Data frame into csv file \n",
    "df1.to_csv(\"data_Frame.csv\")"
   ]
  }
 ],
 "metadata": {
  "kernelspec": {
   "display_name": "Python 3",
   "language": "python",
   "name": "python3"
  },
  "language_info": {
   "codemirror_mode": {
    "name": "ipython",
    "version": 3
   },
   "file_extension": ".py",
   "mimetype": "text/x-python",
   "name": "python",
   "nbconvert_exporter": "python",
   "pygments_lexer": "ipython3",
   "version": "3.6.6"
  }
 },
 "nbformat": 4,
 "nbformat_minor": 2
}
